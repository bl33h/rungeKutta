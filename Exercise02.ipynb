{
 "cells": [
  {
   "cell_type": "markdown",
   "metadata": {},
   "source": [
    "# Laboratorio 03 - Ejercicio 02\n",
    "CC3039, Modelación y Simulación\n",
    "\n",
    "Integrantes:\n",
    "- Ricardo Méndez, 21289\n",
    "- Sara Echeverría, 21371\n",
    "- Melissa Pérez, 21385"
   ]
  },
  {
   "cell_type": "markdown",
   "metadata": {},
   "source": [
    "## 2.1. Crecimiento poblacional\n",
    "Considere el modelo de crecimiento logístico dado por la ecuación diferencial:\n",
    "\n",
    "$$\\frac{dP}{dt} = rP \\left(1 - \\frac{P}{K}\\right)$$\n",
    "\n",
    "Donde: \\( P \\) es la población en el tiempo \\( t \\), \\( r \\) es el ratio de crecimiento, \\( K \\) es la capacidad de carga.\n",
    "\n",
    "Dado:\n",
    "- Población inicial \\( P0 = 10 \\)\n",
    "- Ratio de crecimiento \\( r = 0.1 \\)\n",
    "- Capacidad de carga \\( K = 1,000 \\)\n",
    "- Paso del tiempo \\( h = 0.1 \\)\n",
    "- Tiempo total \\( T = 20 \\)"
   ]
  },
  {
   "cell_type": "markdown",
   "metadata": {},
   "source": [
    "Use el método de 4to orden de Runge-Kutta para estimar la población sobre el tiempo y grafique los resultados.\n",
    "\n",
    "**Interprete la gráfica y responda ¿cuál es el estimado de la población en tiempo  \\( T = 20 \\)?**"
   ]
  },
  {
   "cell_type": "code",
   "execution_count": null,
   "metadata": {
    "vscode": {
     "languageId": "plaintext"
    }
   },
   "outputs": [],
   "source": []
  },
  {
   "cell_type": "markdown",
   "metadata": {},
   "source": [
    "## 2.2. Depredador - Presa\n",
    "Considere el modelo de depredador-presa de Lotka-Volterra, dado por las siguientes ecuaciones diferenciales:\n",
    "\n",
    "$$\\frac{dR}{dt} = \\alpha R - \\beta RP$$\n",
    "$$\\frac{dP}{dt} = \\delta RP - \\gamma P$$\n",
    "\n",
    "**Dado:**\n",
    "- Población inicial de la presa \\( R_0 = 40 \\)\n",
    "- Población inicial de los depredadores \\( P_0 = 9 \\)\n",
    "- Ratio de crecimiento natural de la presa \\( \\alpha = 0.1 \\)\n",
    "- Coeficiente del ratio de depredación \\( \\beta = 0.02 \\)\n",
    "- Ratio de reproducción de los depredadores por presa comida \\( \\delta = 0.01 \\)\n",
    "- Ratio de muerte de los depredadores \\( \\gamma = 0.1 \\)\n",
    "- Paso de tiempo \\( h = 0.1 \\)\n",
    "- Tiempo total \\( T = 50 \\)"
   ]
  },
  {
   "cell_type": "markdown",
   "metadata": {},
   "source": [
    "Utilice el método de cuarto orden de Runge-Kutta para estimar las poblaciones a lo largo del tiempo y trazar el resultado. Interprete las gráficas y responda:\n",
    "\n",
    "**¿Cuál es el estimado de las poblaciones en tiempo \\( T = 50 \\)?**"
   ]
  },
  {
   "cell_type": "markdown",
   "metadata": {},
   "source": []
  }
 ],
 "metadata": {
  "language_info": {
   "name": "python"
  }
 },
 "nbformat": 4,
 "nbformat_minor": 2
}
